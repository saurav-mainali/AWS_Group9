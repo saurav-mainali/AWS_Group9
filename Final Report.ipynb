{
 "cells": [
  {
   "cell_type": "markdown",
   "metadata": {},
   "source": [
    "<b>\n",
    "<p>\n",
    "<center>\n",
    "<font size=\"5\">\n",
    "Stock Market Prediction\n",
    "</font>\n",
    "</center>\n",
    "</p>\n",
    "</b>"
   ]
  },
  {
   "cell_type": "markdown",
   "metadata": {},
   "source": [
    "# Introduction"
   ]
  },
  {
   "cell_type": "markdown",
   "metadata": {},
   "source": [
    "## Problem and motivation:\n",
    "The aim of this project is to predict if a particular stock price on a particular day and month would increase or decrease.There are many sources on the internet and in the news to gain\n",
    "information relating to stocks, but how much of this information is actually reliable? Can one\n",
    "really depend on this information to buy/sell stocks? Given the volatility of the market, we\n",
    "think that just depending on the news to buy/sell stocks is no good. With our team members\n",
    "interest in the Stock market and real-time experience in trading, we wanted to create a model\n",
    "with the use of historical stock market data. We aim to get a decent prediction rate with our\n",
    "model so that we can actually rely on it to buy/sell stocks, this was the motivation which led\n",
    "us to work with this data."
   ]
  },
  {
   "cell_type": "code",
   "execution_count": 1,
   "metadata": {},
   "outputs": [],
   "source": [
    "import pandas as pd\n",
    "import numpy as np\n",
    "import matplotlib.pyplot as plt\n",
    "import seaborn as sns"
   ]
  },
  {
   "cell_type": "code",
   "execution_count": 2,
   "metadata": {},
   "outputs": [],
   "source": [
    "fundamentals=pd.read_csv('fundamentals.csv')\n",
    "split_adj_price=pd.read_csv('prices-split-adjusted.csv')\n",
    "sec=pd.read_csv('securities.csv')"
   ]
  },
  {
   "cell_type": "code",
   "execution_count": 3,
   "metadata": {},
   "outputs": [],
   "source": [
    "sec = sec.rename(columns = {'Ticker symbol' : 'symbol','GICS Sector' : 'sector','GICS Sub Industry':'sub_sector'})\n",
    "fundamentals = fundamentals.rename(columns = {'Ticker Symbol' : 'symbol'})\n",
    "adj_price  = split_adj_price.merge(sec[['symbol','sector','sub_sector','Security']], on = 'symbol')\n",
    "adj_price['date'] = pd.to_datetime(adj_price['date'])\n",
    "adj_price.insert(4, 'per_chg',((adj_price.close)-(adj_price.open))/adj_price.open*100) ## calculates percentage change between open and close prices of a stock\n",
    "adj_price.insert(1, 'year',pd.DatetimeIndex(adj_price['date']).year.astype(np.int64)) ## extracts year from date\n",
    "adj_price.insert(2, 'month',pd.DatetimeIndex(adj_price['date']).month.astype(np.int64)) ## extracts month from date \n",
    "adj_price.insert(3, 'day',pd.DatetimeIndex(adj_price['date']).day.astype(np.int64)) ## extracts day from date \n",
    "adj_price.insert(7,'change',(np.where(adj_price['per_chg']>0, 'positive','negative')))  ## creating theh target variable\n"
   ]
  },
  {
   "cell_type": "code",
   "execution_count": 4,
   "metadata": {
    "scrolled": true
   },
   "outputs": [
    {
     "data": {
      "text/html": [
       "<div>\n",
       "<style scoped>\n",
       "    .dataframe tbody tr th:only-of-type {\n",
       "        vertical-align: middle;\n",
       "    }\n",
       "\n",
       "    .dataframe tbody tr th {\n",
       "        vertical-align: top;\n",
       "    }\n",
       "\n",
       "    .dataframe thead th {\n",
       "        text-align: right;\n",
       "    }\n",
       "</style>\n",
       "<table border=\"1\" class=\"dataframe\">\n",
       "  <thead>\n",
       "    <tr style=\"text-align: right;\">\n",
       "      <th></th>\n",
       "      <th>date</th>\n",
       "      <th>year</th>\n",
       "      <th>month</th>\n",
       "      <th>day</th>\n",
       "      <th>symbol</th>\n",
       "      <th>open</th>\n",
       "      <th>close</th>\n",
       "      <th>change</th>\n",
       "      <th>per_chg</th>\n",
       "      <th>low</th>\n",
       "      <th>high</th>\n",
       "      <th>volume</th>\n",
       "      <th>sector</th>\n",
       "      <th>sub_sector</th>\n",
       "      <th>Security</th>\n",
       "    </tr>\n",
       "  </thead>\n",
       "  <tbody>\n",
       "    <tr>\n",
       "      <th>0</th>\n",
       "      <td>2016-01-05</td>\n",
       "      <td>2016</td>\n",
       "      <td>1</td>\n",
       "      <td>5</td>\n",
       "      <td>WLTW</td>\n",
       "      <td>123.43</td>\n",
       "      <td>125.84</td>\n",
       "      <td>positive</td>\n",
       "      <td>1.95</td>\n",
       "      <td>122.31</td>\n",
       "      <td>126.25</td>\n",
       "      <td>2163600.0</td>\n",
       "      <td>Financials</td>\n",
       "      <td>Insurance Brokers</td>\n",
       "      <td>Willis Towers Watson</td>\n",
       "    </tr>\n",
       "    <tr>\n",
       "      <th>1</th>\n",
       "      <td>2016-01-06</td>\n",
       "      <td>2016</td>\n",
       "      <td>1</td>\n",
       "      <td>6</td>\n",
       "      <td>WLTW</td>\n",
       "      <td>125.24</td>\n",
       "      <td>119.98</td>\n",
       "      <td>negative</td>\n",
       "      <td>-4.20</td>\n",
       "      <td>119.94</td>\n",
       "      <td>125.54</td>\n",
       "      <td>2386400.0</td>\n",
       "      <td>Financials</td>\n",
       "      <td>Insurance Brokers</td>\n",
       "      <td>Willis Towers Watson</td>\n",
       "    </tr>\n",
       "    <tr>\n",
       "      <th>2</th>\n",
       "      <td>2016-01-07</td>\n",
       "      <td>2016</td>\n",
       "      <td>1</td>\n",
       "      <td>7</td>\n",
       "      <td>WLTW</td>\n",
       "      <td>116.38</td>\n",
       "      <td>114.95</td>\n",
       "      <td>negative</td>\n",
       "      <td>-1.23</td>\n",
       "      <td>114.93</td>\n",
       "      <td>119.74</td>\n",
       "      <td>2489500.0</td>\n",
       "      <td>Financials</td>\n",
       "      <td>Insurance Brokers</td>\n",
       "      <td>Willis Towers Watson</td>\n",
       "    </tr>\n",
       "    <tr>\n",
       "      <th>3</th>\n",
       "      <td>2016-01-08</td>\n",
       "      <td>2016</td>\n",
       "      <td>1</td>\n",
       "      <td>8</td>\n",
       "      <td>WLTW</td>\n",
       "      <td>115.48</td>\n",
       "      <td>116.62</td>\n",
       "      <td>positive</td>\n",
       "      <td>0.99</td>\n",
       "      <td>113.50</td>\n",
       "      <td>117.44</td>\n",
       "      <td>2006300.0</td>\n",
       "      <td>Financials</td>\n",
       "      <td>Insurance Brokers</td>\n",
       "      <td>Willis Towers Watson</td>\n",
       "    </tr>\n",
       "    <tr>\n",
       "      <th>4</th>\n",
       "      <td>2016-01-11</td>\n",
       "      <td>2016</td>\n",
       "      <td>1</td>\n",
       "      <td>11</td>\n",
       "      <td>WLTW</td>\n",
       "      <td>117.01</td>\n",
       "      <td>114.97</td>\n",
       "      <td>negative</td>\n",
       "      <td>-1.74</td>\n",
       "      <td>114.09</td>\n",
       "      <td>117.33</td>\n",
       "      <td>1408600.0</td>\n",
       "      <td>Financials</td>\n",
       "      <td>Insurance Brokers</td>\n",
       "      <td>Willis Towers Watson</td>\n",
       "    </tr>\n",
       "  </tbody>\n",
       "</table>\n",
       "</div>"
      ],
      "text/plain": [
       "        date  year  month  day symbol    open   close    change  per_chg  \\\n",
       "0 2016-01-05  2016      1    5   WLTW  123.43  125.84  positive     1.95   \n",
       "1 2016-01-06  2016      1    6   WLTW  125.24  119.98  negative    -4.20   \n",
       "2 2016-01-07  2016      1    7   WLTW  116.38  114.95  negative    -1.23   \n",
       "3 2016-01-08  2016      1    8   WLTW  115.48  116.62  positive     0.99   \n",
       "4 2016-01-11  2016      1   11   WLTW  117.01  114.97  negative    -1.74   \n",
       "\n",
       "      low    high     volume      sector         sub_sector  \\\n",
       "0  122.31  126.25  2163600.0  Financials  Insurance Brokers   \n",
       "1  119.94  125.54  2386400.0  Financials  Insurance Brokers   \n",
       "2  114.93  119.74  2489500.0  Financials  Insurance Brokers   \n",
       "3  113.50  117.44  2006300.0  Financials  Insurance Brokers   \n",
       "4  114.09  117.33  1408600.0  Financials  Insurance Brokers   \n",
       "\n",
       "               Security  \n",
       "0  Willis Towers Watson  \n",
       "1  Willis Towers Watson  \n",
       "2  Willis Towers Watson  \n",
       "3  Willis Towers Watson  \n",
       "4  Willis Towers Watson  "
      ]
     },
     "execution_count": 4,
     "metadata": {},
     "output_type": "execute_result"
    }
   ],
   "source": [
    "fundamentals.drop(columns='Unnamed: 0',axis=1,inplace=True)\n",
    "#adj_price.drop(columns='date',axis=1,inplace=True)\n",
    "fundamentals.insert(1, 'prd_end_year',pd.DatetimeIndex(fundamentals['Period Ending']).year.astype(np.int64)) ## extracts year from date\n",
    "fundamentals.insert(2, 'prd_end_month',pd.DatetimeIndex(fundamentals['Period Ending']).month.astype(np.int64)) ## extracts month from date \n",
    "fundamentals.insert(3, 'prd_end_day',pd.DatetimeIndex(fundamentals['Period Ending']).day.astype(np.int64)) ## extracts day from date \n",
    "fundamentals.drop(columns='Period Ending',axis=1,inplace=True)\n",
    "adj_price=adj_price.round(2)\n",
    "adj_price.head()\n",
    "\n"
   ]
  },
  {
   "cell_type": "code",
   "execution_count": 5,
   "metadata": {},
   "outputs": [],
   "source": [
    "import warnings\n",
    "warnings.filterwarnings('ignore')\n",
    "fundamentals['For Year'].dropna(inplace=True)\n",
    "fundamentals['year+1'] = fundamentals['For Year'] + 1  \n",
    "fundamentals['year+1'][fundamentals['year+1'].values==1215.0] = 2015 ### manually changing corrupted data in the CSV"
   ]
  },
  {
   "cell_type": "code",
   "execution_count": 6,
   "metadata": {},
   "outputs": [],
   "source": [
    "fundamentals = fundamentals[~fundamentals['year+1'].isna()]\n",
    "fundamentals['year+1'] = fundamentals['year+1'].astype(np.int64)"
   ]
  },
  {
   "cell_type": "code",
   "execution_count": 7,
   "metadata": {},
   "outputs": [],
   "source": [
    "adj_fund = pd.merge(adj_price, fundamentals, left_on=['symbol', 'year'], right_on=['symbol', 'year+1'])## apending last year fundemental data to current year stock prices\n",
    "pd.set_option('display.max_columns', None)"
   ]
  },
  {
   "cell_type": "markdown",
   "metadata": {},
   "source": [
    "## Exploratory data analysis"
   ]
  },
  {
   "cell_type": "code",
   "execution_count": 8,
   "metadata": {},
   "outputs": [
    {
     "data": {
      "text/plain": [
       "(array([ 0., 10., 20., 30., 40., 50., 60., 70., 80., 90.]),\n",
       " <a list of 10 Text xticklabel objects>)"
      ]
     },
     "execution_count": 8,
     "metadata": {},
     "output_type": "execute_result"
    },
    {
     "data": {
      "image/png": "[encoded data removed]",
      "text/plain": [
       "<Figure size 1080x432 with 1 Axes>"
      ]
     },
     "metadata": {
      "needs_background": "light"
     },
     "output_type": "display_data"
    }
   ],
   "source": [
    "plt.figure(figsize=(15, 6))\n",
    "ax = sns.countplot(y='sector', data=sec)\n",
    "plt.title('Number of stocks in each sector',fontsize='xx-large',pad=20)\n",
    "plt.xticks()"
   ]
  },
  {
   "cell_type": "code",
   "execution_count": 9,
   "metadata": {},
   "outputs": [
    {
     "data": {
      "text/html": [
       "<div>\n",
       "<style scoped>\n",
       "    .dataframe tbody tr th:only-of-type {\n",
       "        vertical-align: middle;\n",
       "    }\n",
       "\n",
       "    .dataframe tbody tr th {\n",
       "        vertical-align: top;\n",
       "    }\n",
       "\n",
       "    .dataframe thead th {\n",
       "        text-align: right;\n",
       "    }\n",
       "</style>\n",
       "<table border=\"1\" class=\"dataframe\">\n",
       "  <thead>\n",
       "    <tr style=\"text-align: right;\">\n",
       "      <th></th>\n",
       "      <th>sector</th>\n",
       "      <th>symbol</th>\n",
       "      <th>Security</th>\n",
       "      <th>SEC filings</th>\n",
       "      <th>sub_sector</th>\n",
       "      <th>Address of Headquarters</th>\n",
       "      <th>Date first added</th>\n",
       "      <th>CIK</th>\n",
       "    </tr>\n",
       "  </thead>\n",
       "  <tbody>\n",
       "    <tr>\n",
       "      <th>0</th>\n",
       "      <td>Consumer Discretionary</td>\n",
       "      <td>85</td>\n",
       "      <td>85</td>\n",
       "      <td>85</td>\n",
       "      <td>85</td>\n",
       "      <td>85</td>\n",
       "      <td>61</td>\n",
       "      <td>85</td>\n",
       "    </tr>\n",
       "    <tr>\n",
       "      <th>1</th>\n",
       "      <td>Consumer Staples</td>\n",
       "      <td>37</td>\n",
       "      <td>37</td>\n",
       "      <td>37</td>\n",
       "      <td>37</td>\n",
       "      <td>37</td>\n",
       "      <td>20</td>\n",
       "      <td>37</td>\n",
       "    </tr>\n",
       "    <tr>\n",
       "      <th>2</th>\n",
       "      <td>Energy</td>\n",
       "      <td>36</td>\n",
       "      <td>36</td>\n",
       "      <td>36</td>\n",
       "      <td>36</td>\n",
       "      <td>36</td>\n",
       "      <td>21</td>\n",
       "      <td>36</td>\n",
       "    </tr>\n",
       "    <tr>\n",
       "      <th>3</th>\n",
       "      <td>Financials</td>\n",
       "      <td>64</td>\n",
       "      <td>64</td>\n",
       "      <td>64</td>\n",
       "      <td>64</td>\n",
       "      <td>64</td>\n",
       "      <td>31</td>\n",
       "      <td>64</td>\n",
       "    </tr>\n",
       "    <tr>\n",
       "      <th>4</th>\n",
       "      <td>Health Care</td>\n",
       "      <td>59</td>\n",
       "      <td>59</td>\n",
       "      <td>59</td>\n",
       "      <td>59</td>\n",
       "      <td>59</td>\n",
       "      <td>37</td>\n",
       "      <td>59</td>\n",
       "    </tr>\n",
       "    <tr>\n",
       "      <th>5</th>\n",
       "      <td>Industrials</td>\n",
       "      <td>69</td>\n",
       "      <td>69</td>\n",
       "      <td>69</td>\n",
       "      <td>69</td>\n",
       "      <td>69</td>\n",
       "      <td>46</td>\n",
       "      <td>69</td>\n",
       "    </tr>\n",
       "    <tr>\n",
       "      <th>6</th>\n",
       "      <td>Information Technology</td>\n",
       "      <td>68</td>\n",
       "      <td>68</td>\n",
       "      <td>68</td>\n",
       "      <td>68</td>\n",
       "      <td>68</td>\n",
       "      <td>43</td>\n",
       "      <td>68</td>\n",
       "    </tr>\n",
       "    <tr>\n",
       "      <th>7</th>\n",
       "      <td>Materials</td>\n",
       "      <td>25</td>\n",
       "      <td>25</td>\n",
       "      <td>25</td>\n",
       "      <td>25</td>\n",
       "      <td>25</td>\n",
       "      <td>17</td>\n",
       "      <td>25</td>\n",
       "    </tr>\n",
       "    <tr>\n",
       "      <th>8</th>\n",
       "      <td>Real Estate</td>\n",
       "      <td>29</td>\n",
       "      <td>29</td>\n",
       "      <td>29</td>\n",
       "      <td>29</td>\n",
       "      <td>29</td>\n",
       "      <td>19</td>\n",
       "      <td>29</td>\n",
       "    </tr>\n",
       "    <tr>\n",
       "      <th>9</th>\n",
       "      <td>Telecommunications Services</td>\n",
       "      <td>5</td>\n",
       "      <td>5</td>\n",
       "      <td>5</td>\n",
       "      <td>5</td>\n",
       "      <td>5</td>\n",
       "      <td>3</td>\n",
       "      <td>5</td>\n",
       "    </tr>\n",
       "    <tr>\n",
       "      <th>10</th>\n",
       "      <td>Utilities</td>\n",
       "      <td>28</td>\n",
       "      <td>28</td>\n",
       "      <td>28</td>\n",
       "      <td>28</td>\n",
       "      <td>28</td>\n",
       "      <td>9</td>\n",
       "      <td>28</td>\n",
       "    </tr>\n",
       "  </tbody>\n",
       "</table>\n",
       "</div>"
      ],
      "text/plain": [
       "                         sector  symbol  Security  SEC filings  sub_sector  \\\n",
       "0        Consumer Discretionary      85        85           85          85   \n",
       "1              Consumer Staples      37        37           37          37   \n",
       "2                        Energy      36        36           36          36   \n",
       "3                    Financials      64        64           64          64   \n",
       "4                   Health Care      59        59           59          59   \n",
       "5                   Industrials      69        69           69          69   \n",
       "6        Information Technology      68        68           68          68   \n",
       "7                     Materials      25        25           25          25   \n",
       "8                   Real Estate      29        29           29          29   \n",
       "9   Telecommunications Services       5         5            5           5   \n",
       "10                    Utilities      28        28           28          28   \n",
       "\n",
       "    Address of Headquarters  Date first added  CIK  \n",
       "0                        85                61   85  \n",
       "1                        37                20   37  \n",
       "2                        36                21   36  \n",
       "3                        64                31   64  \n",
       "4                        59                37   59  \n",
       "5                        69                46   69  \n",
       "6                        68                43   68  \n",
       "7                        25                17   25  \n",
       "8                        29                19   29  \n",
       "9                         5                 3    5  \n",
       "10                       28                 9   28  "
      ]
     },
     "execution_count": 9,
     "metadata": {},
     "output_type": "execute_result"
    }
   ],
   "source": [
    "sec_sector=sec.groupby(by='sector').count()\n",
    "sec_sector.reset_index(inplace=True)\n",
    "sec_sector"
   ]
  },
  {
   "cell_type": "code",
   "execution_count": 10,
   "metadata": {},
   "outputs": [
    {
     "data": {
      "image/png": "[encoded data removed]",
      "text/plain": [
       "<Figure size 432x288 with 1 Axes>"
      ]
     },
     "metadata": {},
     "output_type": "display_data"
    }
   ],
   "source": [
    "fig4, ax4 = plt.subplots()\n",
    "labels=sec_sector.sector\n",
    "ax4.pie(sec_sector.symbol, autopct='%1.1f%%',shadow=True, startangle=90,radius=2.5)\n",
    "plt.title('Percentage of stocks in each sector ',pad=140,fontsize='xx-large')\n",
    "plt.legend(labels=labels,bbox_to_anchor=(0.4, 0.8), bbox_transform=ax.transAxes,fontsize='large')\n",
    "plt.show()"
   ]
  },
  {
   "cell_type": "code",
   "execution_count": 12,
   "metadata": {},
   "outputs": [
    {
     "data": {
      "text/html": [
       "<div>\n",
       "<style scoped>\n",
       "    .dataframe tbody tr th:only-of-type {\n",
       "        vertical-align: middle;\n",
       "    }\n",
       "\n",
       "    .dataframe tbody tr th {\n",
       "        vertical-align: top;\n",
       "    }\n",
       "\n",
       "    .dataframe thead th {\n",
       "        text-align: right;\n",
       "    }\n",
       "</style>\n",
       "<table border=\"1\" class=\"dataframe\">\n",
       "  <thead>\n",
       "    <tr style=\"text-align: right;\">\n",
       "      <th>sector</th>\n",
       "      <th>date</th>\n",
       "      <th>Consumer Discretionary</th>\n",
       "      <th>Consumer Staples</th>\n",
       "      <th>Energy</th>\n",
       "      <th>Financials</th>\n",
       "      <th>Health Care</th>\n",
       "      <th>Industrials</th>\n",
       "      <th>Information Technology</th>\n",
       "      <th>Materials</th>\n",
       "      <th>Real Estate</th>\n",
       "      <th>Telecommunications Services</th>\n",
       "      <th>Utilities</th>\n",
       "    </tr>\n",
       "  </thead>\n",
       "  <tbody>\n",
       "    <tr>\n",
       "      <th>0</th>\n",
       "      <td>2010-01-04</td>\n",
       "      <td>34.694286</td>\n",
       "      <td>34.465000</td>\n",
       "      <td>47.015758</td>\n",
       "      <td>36.701724</td>\n",
       "      <td>44.512963</td>\n",
       "      <td>39.989524</td>\n",
       "      <td>39.599206</td>\n",
       "      <td>45.853043</td>\n",
       "      <td>43.027586</td>\n",
       "      <td>25.714</td>\n",
       "      <td>34.464643</td>\n",
       "    </tr>\n",
       "    <tr>\n",
       "      <th>1</th>\n",
       "      <td>2010-01-05</td>\n",
       "      <td>34.996538</td>\n",
       "      <td>34.467353</td>\n",
       "      <td>47.482121</td>\n",
       "      <td>37.042931</td>\n",
       "      <td>44.320000</td>\n",
       "      <td>40.061270</td>\n",
       "      <td>39.554444</td>\n",
       "      <td>45.841304</td>\n",
       "      <td>43.141724</td>\n",
       "      <td>25.818</td>\n",
       "      <td>34.096071</td>\n",
       "    </tr>\n",
       "    <tr>\n",
       "      <th>2</th>\n",
       "      <td>2010-01-06</td>\n",
       "      <td>34.890641</td>\n",
       "      <td>34.500588</td>\n",
       "      <td>48.022121</td>\n",
       "      <td>37.024310</td>\n",
       "      <td>44.412963</td>\n",
       "      <td>40.169524</td>\n",
       "      <td>39.256190</td>\n",
       "      <td>46.334348</td>\n",
       "      <td>43.021724</td>\n",
       "      <td>24.926</td>\n",
       "      <td>34.258929</td>\n",
       "    </tr>\n",
       "    <tr>\n",
       "      <th>3</th>\n",
       "      <td>2010-01-07</td>\n",
       "      <td>35.137436</td>\n",
       "      <td>34.476765</td>\n",
       "      <td>47.864242</td>\n",
       "      <td>37.587586</td>\n",
       "      <td>44.636296</td>\n",
       "      <td>40.468095</td>\n",
       "      <td>38.953651</td>\n",
       "      <td>46.184783</td>\n",
       "      <td>43.232414</td>\n",
       "      <td>24.782</td>\n",
       "      <td>34.113571</td>\n",
       "    </tr>\n",
       "    <tr>\n",
       "      <th>4</th>\n",
       "      <td>2010-01-08</td>\n",
       "      <td>35.260897</td>\n",
       "      <td>34.329118</td>\n",
       "      <td>48.331212</td>\n",
       "      <td>37.566379</td>\n",
       "      <td>44.677963</td>\n",
       "      <td>40.962698</td>\n",
       "      <td>39.244921</td>\n",
       "      <td>46.406957</td>\n",
       "      <td>42.885517</td>\n",
       "      <td>24.560</td>\n",
       "      <td>34.077857</td>\n",
       "    </tr>\n",
       "  </tbody>\n",
       "</table>\n",
       "</div>"
      ],
      "text/plain": [
       "sector       date  Consumer Discretionary  Consumer Staples     Energy  \\\n",
       "0      2010-01-04               34.694286         34.465000  47.015758   \n",
       "1      2010-01-05               34.996538         34.467353  47.482121   \n",
       "2      2010-01-06               34.890641         34.500588  48.022121   \n",
       "3      2010-01-07               35.137436         34.476765  47.864242   \n",
       "4      2010-01-08               35.260897         34.329118  48.331212   \n",
       "\n",
       "sector  Financials  Health Care  Industrials  Information Technology  \\\n",
       "0        36.701724    44.512963    39.989524               39.599206   \n",
       "1        37.042931    44.320000    40.061270               39.554444   \n",
       "2        37.024310    44.412963    40.169524               39.256190   \n",
       "3        37.587586    44.636296    40.468095               38.953651   \n",
       "4        37.566379    44.677963    40.962698               39.244921   \n",
       "\n",
       "sector  Materials  Real Estate  Telecommunications Services  Utilities  \n",
       "0       45.853043    43.027586                       25.714  34.464643  \n",
       "1       45.841304    43.141724                       25.818  34.096071  \n",
       "2       46.334348    43.021724                       24.926  34.258929  \n",
       "3       46.184783    43.232414                       24.782  34.113571  \n",
       "4       46.406957    42.885517                       24.560  34.077857  "
      ]
     },
     "execution_count": 12,
     "metadata": {},
     "output_type": "execute_result"
    }
   ],
   "source": [
    "sector_pivot = pd.pivot_table(adj_price, values = 'close', index = ['date'],columns = ['sector']).reset_index()\n",
    "sector_pivot.head()"
   ]
  },
  {
   "cell_type": "code",
   "execution_count": 13,
   "metadata": {
    "scrolled": true
   },
   "outputs": [
    {
     "data": {
      "text/plain": [
       "<matplotlib.axes._subplots.AxesSubplot at 0x2213c7fc550>"
      ]
     },
     "execution_count": 13,
     "metadata": {},
     "output_type": "execute_result"
    },
    {
     "data": {
      "image/png": "[encoded data removed]",
      "text/plain": [
       "<Figure size 720x720 with 2 Axes>"
      ]
     },
     "metadata": {
      "needs_background": "light"
     },
     "output_type": "display_data"
    }
   ],
   "source": [
    "#### can be used to create a portfolio\n",
    "plt.figure(figsize = (10,10))\n",
    "sns.heatmap(sector_pivot.corr(),annot=True, cmap=\"coolwarm\")"
   ]
  },
  {
   "cell_type": "code",
   "execution_count": 14,
   "metadata": {
    "scrolled": true
   },
   "outputs": [],
   "source": [
    "min_d=adj_price.groupby('symbol').min() ### gets start_date for each stock(date from when we have data of particular stock)\n",
    "max_d=adj_price.groupby('symbol').max()  ### gets  end_date for each stock(date till when we have data of particular stock)\n",
    "min_d = min_d.rename(columns = {'date' : 'start_date'})\n",
    "max_d = max_d.rename(columns = {'date' : 'end_date'})"
   ]
  },
  {
   "cell_type": "code",
   "execution_count": 15,
   "metadata": {},
   "outputs": [],
   "source": [
    "min_d=min_d.reset_index()\n",
    "max_d=max_d.reset_index()"
   ]
  },
  {
   "cell_type": "code",
   "execution_count": 16,
   "metadata": {},
   "outputs": [],
   "source": [
    "adj_price  = adj_price.merge(min_d[['symbol','start_date']], on = 'symbol') # adding start date of each stock\n",
    "adj_price  = adj_price.merge(max_d[['symbol','end_date']], on = 'symbol') # adding end date of each stock"
   ]
  },
  {
   "cell_type": "code",
   "execution_count": 17,
   "metadata": {},
   "outputs": [],
   "source": [
    "#[(adj_price.date==adj_price.start_date)]\n",
    "initial_open=adj_price[['symbol','open','start_date','Security','sector','sub_sector']][(adj_price.date==adj_price.start_date)]\n",
    "initial_open = initial_open.rename(columns = {'open' : 'initial_open'})\n",
    "final_open=adj_price[['symbol','open','end_date']][(adj_price.date==adj_price.end_date)]\n",
    "final_open = final_open.rename(columns = {'open' : 'final_open'})                                        \n",
    "per_chg= initial_open.merge(final_open, on = 'symbol')\n",
    "per_chg.insert(5, 'total_per_chg',((per_chg.final_open)-(per_chg.initial_open))/per_chg.initial_open*100)\n"
   ]
  },
  {
   "cell_type": "code",
   "execution_count": 18,
   "metadata": {},
   "outputs": [
    {
     "data": {
      "text/html": [
       "<div>\n",
       "<style scoped>\n",
       "    .dataframe tbody tr th:only-of-type {\n",
       "        vertical-align: middle;\n",
       "    }\n",
       "\n",
       "    .dataframe tbody tr th {\n",
       "        vertical-align: top;\n",
       "    }\n",
       "\n",
       "    .dataframe thead th {\n",
       "        text-align: right;\n",
       "    }\n",
       "</style>\n",
       "<table border=\"1\" class=\"dataframe\">\n",
       "  <thead>\n",
       "    <tr style=\"text-align: right;\">\n",
       "      <th></th>\n",
       "      <th>symbol</th>\n",
       "      <th>initial_open</th>\n",
       "      <th>start_date</th>\n",
       "      <th>Security</th>\n",
       "      <th>sector</th>\n",
       "      <th>total_per_chg</th>\n",
       "      <th>sub_sector</th>\n",
       "      <th>final_open</th>\n",
       "      <th>end_date</th>\n",
       "    </tr>\n",
       "  </thead>\n",
       "  <tbody>\n",
       "    <tr>\n",
       "      <th>362</th>\n",
       "      <td>RIG</td>\n",
       "      <td>84.48</td>\n",
       "      <td>2010-01-04</td>\n",
       "      <td>Transocean</td>\n",
       "      <td>Energy</td>\n",
       "      <td>-82.516572</td>\n",
       "      <td>Oil &amp; Gas Drilling</td>\n",
       "      <td>14.77</td>\n",
       "      <td>2016-12-30</td>\n",
       "    </tr>\n",
       "    <tr>\n",
       "      <th>394</th>\n",
       "      <td>SWN</td>\n",
       "      <td>49.69</td>\n",
       "      <td>2010-01-04</td>\n",
       "      <td>Southwestern Energy</td>\n",
       "      <td>Energy</td>\n",
       "      <td>-78.466492</td>\n",
       "      <td>Oil &amp; Gas Exploration &amp; Production</td>\n",
       "      <td>10.70</td>\n",
       "      <td>2016-12-30</td>\n",
       "    </tr>\n",
       "    <tr>\n",
       "      <th>180</th>\n",
       "      <td>FSLR</td>\n",
       "      <td>136.00</td>\n",
       "      <td>2010-01-04</td>\n",
       "      <td>First Solar Inc</td>\n",
       "      <td>Information Technology</td>\n",
       "      <td>-76.029412</td>\n",
       "      <td>Semiconductors</td>\n",
       "      <td>32.60</td>\n",
       "      <td>2016-12-30</td>\n",
       "    </tr>\n",
       "    <tr>\n",
       "      <th>83</th>\n",
       "      <td>CHK</td>\n",
       "      <td>25.95</td>\n",
       "      <td>2010-01-04</td>\n",
       "      <td>Chesapeake Energy</td>\n",
       "      <td>Energy</td>\n",
       "      <td>-72.447013</td>\n",
       "      <td>Integrated Oil &amp; Gas</td>\n",
       "      <td>7.15</td>\n",
       "      <td>2016-12-30</td>\n",
       "    </tr>\n",
       "    <tr>\n",
       "      <th>165</th>\n",
       "      <td>FCX</td>\n",
       "      <td>41.31</td>\n",
       "      <td>2010-01-04</td>\n",
       "      <td>Freeport-McMoran Cp &amp; Gld</td>\n",
       "      <td>Materials</td>\n",
       "      <td>-67.126604</td>\n",
       "      <td>Copper</td>\n",
       "      <td>13.58</td>\n",
       "      <td>2016-12-30</td>\n",
       "    </tr>\n",
       "    <tr>\n",
       "      <th>385</th>\n",
       "      <td>SPLS</td>\n",
       "      <td>24.62</td>\n",
       "      <td>2010-01-04</td>\n",
       "      <td>Staples Inc.</td>\n",
       "      <td>Consumer Discretionary</td>\n",
       "      <td>-62.672624</td>\n",
       "      <td>Specialty Stores</td>\n",
       "      <td>9.19</td>\n",
       "      <td>2016-12-30</td>\n",
       "    </tr>\n",
       "    <tr>\n",
       "      <th>182</th>\n",
       "      <td>FTR</td>\n",
       "      <td>7.89</td>\n",
       "      <td>2010-01-04</td>\n",
       "      <td>Frontier Communications</td>\n",
       "      <td>Telecommunications Services</td>\n",
       "      <td>-57.160963</td>\n",
       "      <td>Integrated Telecommunications Services</td>\n",
       "      <td>3.38</td>\n",
       "      <td>2016-12-30</td>\n",
       "    </tr>\n",
       "    <tr>\n",
       "      <th>291</th>\n",
       "      <td>MOS</td>\n",
       "      <td>60.45</td>\n",
       "      <td>2010-01-04</td>\n",
       "      <td>The Mosaic Company</td>\n",
       "      <td>Materials</td>\n",
       "      <td>-51.381307</td>\n",
       "      <td>Fertilizers &amp; Agricultural Chemicals</td>\n",
       "      <td>29.39</td>\n",
       "      <td>2016-12-30</td>\n",
       "    </tr>\n",
       "    <tr>\n",
       "      <th>311</th>\n",
       "      <td>NRG</td>\n",
       "      <td>23.78</td>\n",
       "      <td>2010-01-04</td>\n",
       "      <td>NRG Energy</td>\n",
       "      <td>Utilities</td>\n",
       "      <td>-47.645080</td>\n",
       "      <td>Independent Power Producers &amp; Energy Traders</td>\n",
       "      <td>12.45</td>\n",
       "      <td>2016-12-30</td>\n",
       "    </tr>\n",
       "    <tr>\n",
       "      <th>476</th>\n",
       "      <td>KMI</td>\n",
       "      <td>35.82</td>\n",
       "      <td>2013-01-02</td>\n",
       "      <td>Kinder Morgan</td>\n",
       "      <td>Energy</td>\n",
       "      <td>-42.183138</td>\n",
       "      <td>Oil &amp; Gas Refining &amp; Marketing &amp; Transportation</td>\n",
       "      <td>20.71</td>\n",
       "      <td>2016-12-30</td>\n",
       "    </tr>\n",
       "  </tbody>\n",
       "</table>\n",
       "</div>"
      ],
      "text/plain": [
       "    symbol  initial_open start_date                   Security  \\\n",
       "362    RIG         84.48 2010-01-04                 Transocean   \n",
       "394    SWN         49.69 2010-01-04        Southwestern Energy   \n",
       "180   FSLR        136.00 2010-01-04            First Solar Inc   \n",
       "83     CHK         25.95 2010-01-04          Chesapeake Energy   \n",
       "165    FCX         41.31 2010-01-04  Freeport-McMoran Cp & Gld   \n",
       "385   SPLS         24.62 2010-01-04               Staples Inc.   \n",
       "182    FTR          7.89 2010-01-04    Frontier Communications   \n",
       "291    MOS         60.45 2010-01-04         The Mosaic Company   \n",
       "311    NRG         23.78 2010-01-04                 NRG Energy   \n",
       "476    KMI         35.82 2013-01-02              Kinder Morgan   \n",
       "\n",
       "                          sector  total_per_chg  \\\n",
       "362                       Energy     -82.516572   \n",
       "394                       Energy     -78.466492   \n",
       "180       Information Technology     -76.029412   \n",
       "83                        Energy     -72.447013   \n",
       "165                    Materials     -67.126604   \n",
       "385       Consumer Discretionary     -62.672624   \n",
       "182  Telecommunications Services     -57.160963   \n",
       "291                    Materials     -51.381307   \n",
       "311                    Utilities     -47.645080   \n",
       "476                       Energy     -42.183138   \n",
       "\n",
       "                                          sub_sector  final_open   end_date  \n",
       "362                               Oil & Gas Drilling       14.77 2016-12-30  \n",
       "394               Oil & Gas Exploration & Production       10.70 2016-12-30  \n",
       "180                                   Semiconductors       32.60 2016-12-30  \n",
       "83                              Integrated Oil & Gas        7.15 2016-12-30  \n",
       "165                                           Copper       13.58 2016-12-30  \n",
       "385                                 Specialty Stores        9.19 2016-12-30  \n",
       "182           Integrated Telecommunications Services        3.38 2016-12-30  \n",
       "291             Fertilizers & Agricultural Chemicals       29.39 2016-12-30  \n",
       "311     Independent Power Producers & Energy Traders       12.45 2016-12-30  \n",
       "476  Oil & Gas Refining & Marketing & Transportation       20.71 2016-12-30  "
      ]
     },
     "execution_count": 18,
     "metadata": {},
     "output_type": "execute_result"
    }
   ],
   "source": [
    "best_10=per_chg.sort_values(by='total_per_chg' ,ascending=False).head(10)\n",
    "worst_10=per_chg.sort_values(by='total_per_chg' ).head(10)\n",
    "worst_10"
   ]
  },
  {
   "cell_type": "code",
   "execution_count": 19,
   "metadata": {},
   "outputs": [],
   "source": [
    "best_10_sector=best_10.groupby(by='sector').count()\n",
    "worst_10_sector=worst_10.groupby(by='sector').count()\n",
    "worst_10_sector.reset_index(inplace=True)\n",
    "best_10_sector.reset_index(inplace=True)"
   ]
  },
  {
   "cell_type": "code",
   "execution_count": 20,
   "metadata": {},
   "outputs": [
    {
     "data": {
      "image/png": "[encoded data removed]",
      "text/plain": [
       "<Figure size 432x288 with 1 Axes>"
      ]
     },
     "metadata": {
      "needs_background": "light"
     },
     "output_type": "display_data"
    }
   ],
   "source": [
    "### BEST 10 STOCKS\n",
    "g=sns.barplot(best_10.Security,best_10.total_per_chg)\n",
    "g.set_xticklabels(labels=best_10.Security,rotation=90)\n",
    "plt.title('Best 10 stocks over the years')\n",
    "plt.show()"
   ]
  },
  {
   "cell_type": "code",
   "execution_count": 21,
   "metadata": {},
   "outputs": [
    {
     "data": {
      "image/png": "[encoded data removed]",
      "text/plain": [
       "<Figure size 432x288 with 1 Axes>"
      ]
     },
     "metadata": {
      "needs_background": "light"
     },
     "output_type": "display_data"
    }
   ],
   "source": [
    "### WORST 10 STOCKS\n",
    "m=sns.barplot(worst_10.Security,worst_10.total_per_chg)\n",
    "m.set_xticklabels(labels=worst_10.Security,rotation=90)\n",
    "plt.title('Worst 10 stocks over the years')\n",
    "plt.show()"
   ]
  },
  {
   "cell_type": "code",
   "execution_count": 22,
   "metadata": {},
   "outputs": [],
   "source": [
    "best_30=per_chg.sort_values(by='total_per_chg' ,ascending=False).head(30)\n",
    "worst_30=per_chg.sort_values(by='total_per_chg' ).head(30)\n",
    "best_30_sector=best_30.groupby(by='sector').count()\n",
    "worst_30_sector=worst_30.groupby(by='sector').count()\n",
    "worst_30_sector.reset_index(inplace=True)\n",
    "best_30_sector.reset_index(inplace=True)"
   ]
  },
  {
   "cell_type": "code",
   "execution_count": 23,
   "metadata": {},
   "outputs": [
    {
     "data": {
      "image/png": "[encoded data removed]",
      "text/plain": [
       "<Figure size 432x288 with 1 Axes>"
      ]
     },
     "metadata": {},
     "output_type": "display_data"
    }
   ],
   "source": [
    "## Best 30 stocks sector wise percentage\n",
    "fig2, ax2 = plt.subplots()\n",
    "ax2.pie(best_30_sector.symbol,autopct='%1.0f%%',shadow=True, labeldistance=1,startangle=90,radius=1.5)\n",
    "labels=best_30_sector.sector\n",
    "\n",
    "plt.title('Sector wise comparision of the Best 30 Stocks ',pad=30,fontsize ='large')\n",
    "\n",
    "plt.legend(labels=labels,loc='upper right', bbox_to_anchor=(-0.1,0.8),fontsize ='large')\n",
    "#plt.pie(sizes, labels=labels, autopct='%1.0f%%', pctdistance=1.1, labeldistance=1.2)\n",
    "plt.show()\n"
   ]
  },
  {
   "cell_type": "code",
   "execution_count": 24,
   "metadata": {},
   "outputs": [
    {
     "data": {
      "image/png": "[encoded data removed]",
      "text/plain": [
       "<Figure size 432x288 with 1 Axes>"
      ]
     },
     "metadata": {},
     "output_type": "display_data"
    }
   ],
   "source": [
    "## Worst 30 stocks sector wise percentage\n",
    "fig2, ax2 = plt.subplots()\n",
    "ax2.pie(worst_30_sector.symbol,autopct='%1.0f%%',shadow=True, labeldistance=1,startangle=90,radius=1.5)\n",
    "labels=worst_30_sector.sector\n",
    "\n",
    "plt.title('Sector wise comparision of the worst 30 Stocks ',pad=30,fontsize ='large')\n",
    "\n",
    "plt.legend(labels=labels,loc='upper right', bbox_to_anchor=(-0.1,0.8),fontsize ='large')\n",
    "#plt.pie(sizes, labels=labels, autopct='%1.0f%%', pctdistance=1.1, labeldistance=1.2)\n",
    "plt.show()"
   ]
  },
  {
   "cell_type": "code",
   "execution_count": 25,
   "metadata": {},
   "outputs": [
    {
     "data": {
      "image/png": "[encoded data removed]",
      "text/plain": [
       "<Figure size 432x288 with 1 Axes>"
      ]
     },
     "metadata": {
      "needs_background": "light"
     },
     "output_type": "display_data"
    }
   ],
   "source": [
    "## Sector wise growth\n",
    "sector_per_chg=per_chg.groupby(by='sector').mean().sort_values(by='total_per_chg')\n",
    "sector_per_chg.reset_index(inplace=True)\n",
    "g=sns.barplot(sector_per_chg.sector,sector_per_chg.total_per_chg)\n",
    "g.set_xticklabels(labels=sector_per_chg.sector,rotation=90)\n",
    "plt.title('Sector wise growth comparision over the years',pad=40)\n",
    "plt.show()"
   ]
  },
  {
   "cell_type": "code",
   "execution_count": 26,
   "metadata": {
    "collapsed": true
   },
   "outputs": [
    {
     "data": {
      "text/html": [
       "<div>\n",
       "<style scoped>\n",
       "    .dataframe tbody tr th:only-of-type {\n",
       "        vertical-align: middle;\n",
       "    }\n",
       "\n",
       "    .dataframe tbody tr th {\n",
       "        vertical-align: top;\n",
       "    }\n",
       "\n",
       "    .dataframe thead th {\n",
       "        text-align: right;\n",
       "    }\n",
       "</style>\n",
       "<table border=\"1\" class=\"dataframe\">\n",
       "  <thead>\n",
       "    <tr style=\"text-align: right;\">\n",
       "      <th></th>\n",
       "      <th>date</th>\n",
       "      <th>year</th>\n",
       "      <th>month</th>\n",
       "      <th>day</th>\n",
       "      <th>symbol</th>\n",
       "      <th>open</th>\n",
       "      <th>close</th>\n",
       "      <th>change</th>\n",
       "      <th>per_chg</th>\n",
       "      <th>low</th>\n",
       "      <th>high</th>\n",
       "      <th>volume</th>\n",
       "      <th>sector</th>\n",
       "      <th>sub_sector</th>\n",
       "      <th>Security</th>\n",
       "      <th>start_date</th>\n",
       "      <th>end_date</th>\n",
       "    </tr>\n",
       "  </thead>\n",
       "  <tbody>\n",
       "    <tr>\n",
       "      <th>316106</th>\n",
       "      <td>2011-10-25</td>\n",
       "      <td>2011</td>\n",
       "      <td>10</td>\n",
       "      <td>25</td>\n",
       "      <td>FSLR</td>\n",
       "      <td>58.11</td>\n",
       "      <td>43.27</td>\n",
       "      <td>negative</td>\n",
       "      <td>-25.54</td>\n",
       "      <td>42.50</td>\n",
       "      <td>58.61</td>\n",
       "      <td>23572600.0</td>\n",
       "      <td>Information Technology</td>\n",
       "      <td>Semiconductors</td>\n",
       "      <td>First Solar Inc</td>\n",
       "      <td>2010-01-04</td>\n",
       "      <td>2016-12-30</td>\n",
       "    </tr>\n",
       "    <tr>\n",
       "      <th>792923</th>\n",
       "      <td>2016-02-08</td>\n",
       "      <td>2016</td>\n",
       "      <td>2</td>\n",
       "      <td>8</td>\n",
       "      <td>WMB</td>\n",
       "      <td>14.93</td>\n",
       "      <td>11.16</td>\n",
       "      <td>negative</td>\n",
       "      <td>-25.25</td>\n",
       "      <td>10.22</td>\n",
       "      <td>15.00</td>\n",
       "      <td>62368000.0</td>\n",
       "      <td>Energy</td>\n",
       "      <td>Oil &amp; Gas Exploration &amp; Production</td>\n",
       "      <td>Williams Cos.</td>\n",
       "      <td>2010-01-04</td>\n",
       "      <td>2016-12-30</td>\n",
       "    </tr>\n",
       "    <tr>\n",
       "      <th>834740</th>\n",
       "      <td>2015-05-27</td>\n",
       "      <td>2015</td>\n",
       "      <td>5</td>\n",
       "      <td>27</td>\n",
       "      <td>KORS</td>\n",
       "      <td>60.59</td>\n",
       "      <td>45.93</td>\n",
       "      <td>negative</td>\n",
       "      <td>-24.20</td>\n",
       "      <td>45.88</td>\n",
       "      <td>60.59</td>\n",
       "      <td>69237400.0</td>\n",
       "      <td>Consumer Discretionary</td>\n",
       "      <td>Apparel, Accessories &amp; Luxury Goods</td>\n",
       "      <td>Michael Kors Holdings</td>\n",
       "      <td>2013-01-02</td>\n",
       "      <td>2016-12-30</td>\n",
       "    </tr>\n",
       "    <tr>\n",
       "      <th>146269</th>\n",
       "      <td>2016-02-08</td>\n",
       "      <td>2016</td>\n",
       "      <td>2</td>\n",
       "      <td>8</td>\n",
       "      <td>CHK</td>\n",
       "      <td>2.56</td>\n",
       "      <td>2.04</td>\n",
       "      <td>negative</td>\n",
       "      <td>-20.31</td>\n",
       "      <td>1.50</td>\n",
       "      <td>2.59</td>\n",
       "      <td>121984600.0</td>\n",
       "      <td>Energy</td>\n",
       "      <td>Integrated Oil &amp; Gas</td>\n",
       "      <td>Chesapeake Energy</td>\n",
       "      <td>2010-01-04</td>\n",
       "      <td>2016-12-30</td>\n",
       "    </tr>\n",
       "    <tr>\n",
       "      <th>290734</th>\n",
       "      <td>2016-01-11</td>\n",
       "      <td>2016</td>\n",
       "      <td>1</td>\n",
       "      <td>11</td>\n",
       "      <td>FCX</td>\n",
       "      <td>5.40</td>\n",
       "      <td>4.31</td>\n",
       "      <td>negative</td>\n",
       "      <td>-20.19</td>\n",
       "      <td>4.23</td>\n",
       "      <td>5.42</td>\n",
       "      <td>117668200.0</td>\n",
       "      <td>Materials</td>\n",
       "      <td>Copper</td>\n",
       "      <td>Freeport-McMoran Cp &amp; Gld</td>\n",
       "      <td>2010-01-04</td>\n",
       "      <td>2016-12-30</td>\n",
       "    </tr>\n",
       "    <tr>\n",
       "      <th>259062</th>\n",
       "      <td>2016-03-15</td>\n",
       "      <td>2016</td>\n",
       "      <td>3</td>\n",
       "      <td>15</td>\n",
       "      <td>ENDP</td>\n",
       "      <td>40.72</td>\n",
       "      <td>32.57</td>\n",
       "      <td>negative</td>\n",
       "      <td>-20.01</td>\n",
       "      <td>32.48</td>\n",
       "      <td>40.98</td>\n",
       "      <td>17422000.0</td>\n",
       "      <td>Health Care</td>\n",
       "      <td>Pharmaceuticals</td>\n",
       "      <td>Endo International</td>\n",
       "      <td>2010-01-04</td>\n",
       "      <td>2016-12-30</td>\n",
       "    </tr>\n",
       "    <tr>\n",
       "      <th>259225</th>\n",
       "      <td>2016-11-03</td>\n",
       "      <td>2016</td>\n",
       "      <td>11</td>\n",
       "      <td>3</td>\n",
       "      <td>ENDP</td>\n",
       "      <td>18.24</td>\n",
       "      <td>14.63</td>\n",
       "      <td>negative</td>\n",
       "      <td>-19.79</td>\n",
       "      <td>14.39</td>\n",
       "      <td>18.51</td>\n",
       "      <td>20578100.0</td>\n",
       "      <td>Health Care</td>\n",
       "      <td>Pharmaceuticals</td>\n",
       "      <td>Endo International</td>\n",
       "      <td>2010-01-04</td>\n",
       "      <td>2016-12-30</td>\n",
       "    </tr>\n",
       "    <tr>\n",
       "      <th>538370</th>\n",
       "      <td>2012-10-24</td>\n",
       "      <td>2012</td>\n",
       "      <td>10</td>\n",
       "      <td>24</td>\n",
       "      <td>NFX</td>\n",
       "      <td>33.86</td>\n",
       "      <td>27.46</td>\n",
       "      <td>negative</td>\n",
       "      <td>-18.90</td>\n",
       "      <td>26.97</td>\n",
       "      <td>34.14</td>\n",
       "      <td>21434200.0</td>\n",
       "      <td>Energy</td>\n",
       "      <td>Oil &amp; Gas Exploration &amp; Production</td>\n",
       "      <td>Newfield Exploration Co</td>\n",
       "      <td>2010-01-04</td>\n",
       "      <td>2016-12-30</td>\n",
       "    </tr>\n",
       "    <tr>\n",
       "      <th>438759</th>\n",
       "      <td>2016-02-04</td>\n",
       "      <td>2016</td>\n",
       "      <td>2</td>\n",
       "      <td>4</td>\n",
       "      <td>KSS</td>\n",
       "      <td>51.13</td>\n",
       "      <td>41.52</td>\n",
       "      <td>negative</td>\n",
       "      <td>-18.80</td>\n",
       "      <td>40.95</td>\n",
       "      <td>51.13</td>\n",
       "      <td>22573600.0</td>\n",
       "      <td>Consumer Discretionary</td>\n",
       "      <td>General Merchandise Stores</td>\n",
       "      <td>Kohl's Corp.</td>\n",
       "      <td>2010-01-04</td>\n",
       "      <td>2016-12-30</td>\n",
       "    </tr>\n",
       "    <tr>\n",
       "      <th>618408</th>\n",
       "      <td>2015-10-16</td>\n",
       "      <td>2015</td>\n",
       "      <td>10</td>\n",
       "      <td>16</td>\n",
       "      <td>PWR</td>\n",
       "      <td>23.06</td>\n",
       "      <td>18.74</td>\n",
       "      <td>negative</td>\n",
       "      <td>-18.73</td>\n",
       "      <td>18.51</td>\n",
       "      <td>23.06</td>\n",
       "      <td>24408600.0</td>\n",
       "      <td>Industrials</td>\n",
       "      <td>Industrial Conglomerates</td>\n",
       "      <td>Quanta Services Inc.</td>\n",
       "      <td>2010-01-04</td>\n",
       "      <td>2016-12-30</td>\n",
       "    </tr>\n",
       "  </tbody>\n",
       "</table>\n",
       "</div>"
      ],
      "text/plain": [
       "             date  year  month  day symbol   open  close    change  per_chg  \\\n",
       "316106 2011-10-25  2011     10   25   FSLR  58.11  43.27  negative   -25.54   \n",
       "792923 2016-02-08  2016      2    8    WMB  14.93  11.16  negative   -25.25   \n",
       "834740 2015-05-27  2015      5   27   KORS  60.59  45.93  negative   -24.20   \n",
       "146269 2016-02-08  2016      2    8    CHK   2.56   2.04  negative   -20.31   \n",
       "290734 2016-01-11  2016      1   11    FCX   5.40   4.31  negative   -20.19   \n",
       "259062 2016-03-15  2016      3   15   ENDP  40.72  32.57  negative   -20.01   \n",
       "259225 2016-11-03  2016     11    3   ENDP  18.24  14.63  negative   -19.79   \n",
       "538370 2012-10-24  2012     10   24    NFX  33.86  27.46  negative   -18.90   \n",
       "438759 2016-02-04  2016      2    4    KSS  51.13  41.52  negative   -18.80   \n",
       "618408 2015-10-16  2015     10   16    PWR  23.06  18.74  negative   -18.73   \n",
       "\n",
       "          low   high       volume                  sector  \\\n",
       "316106  42.50  58.61   23572600.0  Information Technology   \n",
       "792923  10.22  15.00   62368000.0                  Energy   \n",
       "834740  45.88  60.59   69237400.0  Consumer Discretionary   \n",
       "146269   1.50   2.59  121984600.0                  Energy   \n",
       "290734   4.23   5.42  117668200.0               Materials   \n",
       "259062  32.48  40.98   17422000.0             Health Care   \n",
       "259225  14.39  18.51   20578100.0             Health Care   \n",
       "538370  26.97  34.14   21434200.0                  Energy   \n",
       "438759  40.95  51.13   22573600.0  Consumer Discretionary   \n",
       "618408  18.51  23.06   24408600.0             Industrials   \n",
       "\n",
       "                                 sub_sector                   Security  \\\n",
       "316106                       Semiconductors            First Solar Inc   \n",
       "792923   Oil & Gas Exploration & Production              Williams Cos.   \n",
       "834740  Apparel, Accessories & Luxury Goods      Michael Kors Holdings   \n",
       "146269                 Integrated Oil & Gas          Chesapeake Energy   \n",
       "290734                               Copper  Freeport-McMoran Cp & Gld   \n",
       "259062                      Pharmaceuticals         Endo International   \n",
       "259225                      Pharmaceuticals         Endo International   \n",
       "538370   Oil & Gas Exploration & Production    Newfield Exploration Co   \n",
       "438759           General Merchandise Stores               Kohl's Corp.   \n",
       "618408             Industrial Conglomerates       Quanta Services Inc.   \n",
       "\n",
       "       start_date   end_date  \n",
       "316106 2010-01-04 2016-12-30  \n",
       "792923 2010-01-04 2016-12-30  \n",
       "834740 2013-01-02 2016-12-30  \n",
       "146269 2010-01-04 2016-12-30  \n",
       "290734 2010-01-04 2016-12-30  \n",
       "259062 2010-01-04 2016-12-30  \n",
       "259225 2010-01-04 2016-12-30  \n",
       "538370 2010-01-04 2016-12-30  \n",
       "438759 2010-01-04 2016-12-30  \n",
       "618408 2010-01-04 2016-12-30  "
      ]
     },
     "execution_count": 26,
     "metadata": {},
     "output_type": "execute_result"
    }
   ],
   "source": [
    "adj_price.sort_values(by='per_chg',ascending=False).head(10) #top 10 stocks with highest +ve % change in a single day\n",
    "adj_price.sort_values(by='per_chg').head(10) #top 10 stocks with highest -ve % change in a single day\n",
    "#adj_price[(adj_price.symbol=='FSLR')&(adj_price.date=='2013-04-09')]\n"
   ]
  },
  {
   "cell_type": "markdown",
   "metadata": {},
   "source": [
    "# Model Building"
   ]
  },
  {
   "cell_type": "markdown",
   "metadata": {},
   "source": [
    "# Extract data from the merged dataset"
   ]
  },
  {
   "cell_type": "code",
   "execution_count": 9,
   "metadata": {},
   "outputs": [
    {
     "ename": "NameError",
     "evalue": "name 'per_chg' is not defined",
     "output_type": "error",
     "traceback": [
      "\u001b[1;31m---------------------------------------------------------------------------\u001b[0m",
      "\u001b[1;31mNameError\u001b[0m                                 Traceback (most recent call last)",
      "\u001b[1;32m<ipython-input-9-622f4f512762>\u001b[0m in \u001b[0;36m<module>\u001b[1;34m\u001b[0m\n\u001b[0;32m      1\u001b[0m \u001b[1;31m# Taking best 20 stocks over the years\u001b[0m\u001b[1;33m\u001b[0m\u001b[1;33m\u001b[0m\u001b[1;33m\u001b[0m\u001b[0m\n\u001b[1;32m----> 2\u001b[1;33m \u001b[0mbest_stocks\u001b[0m \u001b[1;33m=\u001b[0m \u001b[0mper_chg\u001b[0m\u001b[1;33m.\u001b[0m\u001b[0msort_values\u001b[0m\u001b[1;33m(\u001b[0m\u001b[0mby\u001b[0m\u001b[1;33m=\u001b[0m\u001b[1;34m'total_per_chg'\u001b[0m \u001b[1;33m,\u001b[0m\u001b[0mascending\u001b[0m\u001b[1;33m=\u001b[0m\u001b[1;32mFalse\u001b[0m\u001b[1;33m)\u001b[0m\u001b[1;33m.\u001b[0m\u001b[0msymbol\u001b[0m\u001b[1;33m\u001b[0m\u001b[1;33m\u001b[0m\u001b[0m\n\u001b[0m\u001b[0;32m      3\u001b[0m \u001b[0mtarget_columns\u001b[0m \u001b[1;33m=\u001b[0m \u001b[1;33m[\u001b[0m\u001b[1;34m'change'\u001b[0m\u001b[1;33m,\u001b[0m \u001b[1;34m'close'\u001b[0m\u001b[1;33m]\u001b[0m\u001b[1;33m\u001b[0m\u001b[1;33m\u001b[0m\u001b[0m\n\u001b[0;32m      4\u001b[0m \u001b[0mtarget\u001b[0m \u001b[1;33m=\u001b[0m \u001b[0mtarget_columns\u001b[0m\u001b[1;33m[\u001b[0m\u001b[1;36m0\u001b[0m\u001b[1;33m]\u001b[0m\u001b[1;33m\u001b[0m\u001b[1;33m\u001b[0m\u001b[0m\n\u001b[0;32m      5\u001b[0m \u001b[0mstock_data\u001b[0m \u001b[1;33m=\u001b[0m \u001b[0madj_price\u001b[0m\u001b[1;33m[\u001b[0m\u001b[0madj_price\u001b[0m\u001b[1;33m.\u001b[0m\u001b[0msymbol\u001b[0m\u001b[1;33m.\u001b[0m\u001b[0misin\u001b[0m\u001b[1;33m(\u001b[0m\u001b[0mbest_stocks\u001b[0m\u001b[1;33m[\u001b[0m\u001b[1;33m:\u001b[0m\u001b[1;36m20\u001b[0m\u001b[1;33m]\u001b[0m\u001b[1;33m)\u001b[0m\u001b[1;33m]\u001b[0m\u001b[1;33m\u001b[0m\u001b[1;33m\u001b[0m\u001b[0m\n",
      "\u001b[1;31mNameError\u001b[0m: name 'per_chg' is not defined"
     ]
    }
   ],
   "source": [
    "# Taking best 20 stocks over the years \n",
    "best_stocks = per_chg.sort_values(by='total_per_chg' ,ascending=False).symbol\n",
    "target_columns = ['change', 'close']\n",
    "target = target_columns[0]\n",
    "stock_data = adj_price[adj_price.symbol.isin(best_stocks[:20])]\n",
    "stock_data = stock_data[['month','day', 'symbol', 'open','close','change', 'low','high','volume']]\n",
    "stock_data.head()"
   ]
  },
  {
   "cell_type": "markdown",
   "metadata": {},
   "source": [
    "# Get the features and target"
   ]
  },
  {
   "cell_type": "code",
   "execution_count": null,
   "metadata": {},
   "outputs": [],
   "source": [
    "X = stock_data.drop(columns=[target, 'close'])\n",
    "y = stock_data[target]\n",
    "feature_value_names = X.columns"
   ]
  },
  {
   "cell_type": "markdown",
   "metadata": {},
   "source": [
    "## Encoding the Categorical Target"
   ]
  },
  {
   "cell_type": "code",
   "execution_count": null,
   "metadata": {},
   "outputs": [],
   "source": [
    "import pandas as pd\n",
    "X = pd.get_dummies(X, columns=['symbol'])\n",
    "X.head(10)\n",
    "feature_value_names = X.columns"
   ]
  },
  {
   "cell_type": "markdown",
   "metadata": {},
   "source": [
    "# Missing values check"
   ]
  },
  {
   "cell_type": "code",
   "execution_count": null,
   "metadata": {},
   "outputs": [],
   "source": [
    "# Check NA\n",
    "pd.set_option('display.max_rows', None)\n",
    "stock_data.isna().sum()"
   ]
  },
  {
   "cell_type": "markdown",
   "metadata": {},
   "source": [
    "# Remove missing values"
   ]
  },
  {
   "cell_type": "code",
   "execution_count": null,
   "metadata": {},
   "outputs": [],
   "source": [
    "print('Number of rows before removing rows with missing values:', str(X.shape[0]))\n",
    "# Remove rows with np.NaN\n",
    "X = X.dropna(how='any')\n",
    "print('Number of rows after removing rows with missing values:', str(X.shape[0]))"
   ]
  },
  {
   "cell_type": "markdown",
   "metadata": {},
   "source": [
    "# Encode the categorical target"
   ]
  },
  {
   "cell_type": "code",
   "execution_count": null,
   "metadata": {},
   "outputs": [],
   "source": [
    "y.value_counts()"
   ]
  },
  {
   "cell_type": "code",
   "execution_count": null,
   "metadata": {},
   "outputs": [],
   "source": [
    "from sklearn.preprocessing import LabelEncoder\n",
    "\n",
    "le = LabelEncoder()\n",
    "y = le.fit_transform(y)\n",
    "\n",
    "pd.DataFrame(data=y, columns=[target])[target].value_counts()"
   ]
  },
  {
   "cell_type": "markdown",
   "metadata": {},
   "source": [
    "# Over sampling"
   ]
  },
  {
   "cell_type": "code",
   "execution_count": null,
   "metadata": {},
   "outputs": [],
   "source": [
    "from imblearn.over_sampling import RandomOverSampler\n",
    "\n",
    "# RandomOverSampler (with random_state=0)\n",
    "ros = RandomOverSampler(random_state=0)\n",
    "X, y = ros.fit_sample(X, y)\n",
    "\n",
    "pd.DataFrame(data=y, columns=[target])[target].value_counts()"
   ]
  },
  {
   "cell_type": "markdown",
   "metadata": {},
   "source": [
    "# Divide the data into training and testing"
   ]
  },
  {
   "cell_type": "code",
   "execution_count": null,
   "metadata": {},
   "outputs": [],
   "source": [
    "from sklearn.model_selection import train_test_split\n",
    "from sklearn.preprocessing import StandardScaler\n",
    "# Divide the data into training and testing (using the above test_size and random_state)\n",
    "X_train, X_test, y_train, y_test = train_test_split(X, y, test_size=0.3, random_state=25)"
   ]
  },
  {
   "cell_type": "markdown",
   "metadata": {},
   "source": []
  },
  {
   "cell_type": "markdown",
   "metadata": {},
   "source": [
    "<b>\n",
    "<p>\n",
    "<center>\n",
    "<font size=\"5\">\n",
    "Classification Models\n",
    "</font>\n",
    "</center>\n",
    "</p>\n",
    "</b>"
   ]
  },
  {
   "cell_type": "markdown",
   "metadata": {},
   "source": [
    "# Logistic Regression"
   ]
  },
  {
   "cell_type": "code",
   "execution_count": null,
   "metadata": {},
   "outputs": [],
   "source": [
    "from sklearn.base import BaseEstimator, ClassifierMixin\n",
    "import numpy as np\n",
    "\n",
    "class MyLogisticRegression(BaseEstimator, ClassifierMixin):\n",
    "    \"\"\"My logistic regression model (implemented using numpy array)\"\"\"\n",
    "    \n",
    "    def __init__(self, n_iter=100, eta=10 ** -2, C=1, random_state=0):\n",
    "        # The number of iterations\n",
    "        self.n_iter = n_iter\n",
    "        \n",
    "        # The learning rate\n",
    "        self.eta = eta\n",
    "        \n",
    "        # The regularization parameter\n",
    "        self.C = C\n",
    "        \n",
    "        # The random state\n",
    "        self.random_state = random_state\n",
    "        \n",
    "        # The class labels\n",
    "        self.classes = None\n",
    "        \n",
    "        # The cost\n",
    "        self.cost = None\n",
    "        \n",
    "        # The parameters\n",
    "        self.w = None\n",
    "        \n",
    "    def fit(self, X, y):\n",
    "        \"\"\"\n",
    "        The fit function\n",
    "        \n",
    "        Parameters\n",
    "        ----------\n",
    "        X : the feature matrix\n",
    "        y : the target vector\n",
    "        \"\"\"\n",
    "        \n",
    "        # Get the class labels\n",
    "        self.classes = np.unique(y)\n",
    "        \n",
    "        # Get the one-hot-encoded target matrix\n",
    "        # Here y_one_hot_encode is a X.shape[0] by len(self.classes) matrix\n",
    "        y_one_hot_encode = pd.get_dummies(y).values\n",
    "                \n",
    "        # Initialize the cost\n",
    "        self.cost = []\n",
    "        \n",
    "        # The random number generator\n",
    "        self.rgen = np.random.RandomState(seed=self.random_state)\n",
    "        \n",
    "        # Initialize the weight for features x0 (the dummy feature), x1, x2, ..., xn (with respect to each class)\n",
    "        # Here self.w is a X.shape[1] + 1 by len(self.classes) matrix\n",
    "        self.w = self.rgen.normal(loc=0.0, scale=0.01, size=(X.shape[1] + 1, len(self.classes)))\n",
    "\n",
    "        # For each iteration\n",
    "        for _ in range(self.n_iter):\n",
    "            # Get the net input\n",
    "            # Here net_input is a X.shape[0] by len(self.classes) matrix\n",
    "            net_input = self.net_input(X)\n",
    "            \n",
    "            # Get the sigmoid\n",
    "            # Here sigmoid is a X.shape[0] by len(self.classes) matrix\n",
    "            sigmoid = self.sigmoid(net_input)\n",
    "            \n",
    "            # Get the errors\n",
    "            # Here errors is a X.shape[0] by len(self.classes) matrix     \n",
    "            errors = y_one_hot_encode - sigmoid\n",
    "            \n",
    "            # Get the mean squared error (mse)\n",
    "            mse = (errors ** 2).sum()\n",
    "            \n",
    "            # Update the cost\n",
    "            self.cost.append(mse)\n",
    "            \n",
    "            # Update the weight of features x1, x2, ..., xn (with respect to each class)\n",
    "            self.w[1:,] += self.eta * (np.matmul(X.T, errors) - 2 * self.C * self.w[1:,])\n",
    "            \n",
    "            # Update the weight of the dummy feature, x0 (with respect to each class)\n",
    "            self.w[0, :] += self.eta * errors.sum(axis=0)\n",
    "\n",
    "    def net_input(self, X):\n",
    "        \"\"\"\n",
    "        Get the net input\n",
    "        \n",
    "        Parameters\n",
    "        ----------\n",
    "        X : the feature matrix\n",
    "        \n",
    "        Returns\n",
    "        ----------\n",
    "        The net input\n",
    "       \n",
    "        \"\"\"\n",
    "        \n",
    "        return np.matmul(X, self.w[1:,]) + self.w[0, :]\n",
    "    \n",
    "    def sigmoid(self, net_input):\n",
    "        \"\"\"\n",
    "        Get the sigmoid\n",
    "        \n",
    "        Parameters\n",
    "        ----------\n",
    "        net_input : the net input\n",
    "        \n",
    "        Returns\n",
    "        ----------\n",
    "        The sigmoid\n",
    "       \n",
    "        \"\"\"\n",
    "        \n",
    "        return 1 / (1 + (np.exp(np.clip(-net_input, -250, 250))))\n",
    "\n",
    "    def predict(self, X):\n",
    "        \"\"\"\n",
    "        The predict function\n",
    "        \n",
    "        Parameters\n",
    "        ----------\n",
    "        X : the feature matrix\n",
    "        \n",
    "        Returns\n",
    "        ----------\n",
    "        The class with the maximum probability\n",
    "        \"\"\"\n",
    "        \n",
    "        # Get the net input\n",
    "        net_input = self.net_input(X)\n",
    "        \n",
    "        # Get the sigmoid\n",
    "        sigmoid = self.sigmoid(net_input)\n",
    "    \n",
    "        # Return the class with the maximum probability\n",
    "        return np.argmax(sigmoid, axis=1)"
   ]
  },
  {
   "cell_type": "markdown",
   "metadata": {},
   "source": [
    "# Hypterparameter tuning and model selection"
   ]
  },
  {
   "cell_type": "code",
   "execution_count": null,
   "metadata": {},
   "outputs": [],
   "source": [
    "from sklearn.linear_model import LogisticRegression\n",
    "\n",
    "clfs = {'lr': LogisticRegression(random_state=0),\n",
    "        'mylr': MyLogisticRegression(random_state=0)}"
   ]
  },
  {
   "cell_type": "markdown",
   "metadata": {},
   "source": [
    "## Create the dictionary of pipeline\n",
    "- In the dictionary:\n",
    "    - the key is the acronym of the classifier\n",
    "    - the value is the pipeline, with StandardScaler and the classifier"
   ]
  },
  {
   "cell_type": "code",
   "execution_count": null,
   "metadata": {},
   "outputs": [],
   "source": [
    "from sklearn.pipeline import Pipeline\n",
    "from sklearn.preprocessing import StandardScaler\n",
    "\n",
    "pipe_clfs = {}\n",
    "\n",
    "# Implement me\n",
    "for name, clf in clfs.items():\n",
    "    pipe_clfs[name] = Pipeline([('StandardScaler', StandardScaler()), \n",
    "                                ('clf', clf)])"
   ]
  },
  {
   "cell_type": "markdown",
   "metadata": {},
   "source": [
    "## Create the dictionary of parameter grids\n",
    "- In the dictionary:\n",
    "    - the key is the acronym of the classifier\n",
    "    - the value is the parameter grid of the classifier"
   ]
  },
  {
   "cell_type": "code",
   "execution_count": null,
   "metadata": {},
   "outputs": [],
   "source": [
    "param_grids = {}"
   ]
  },
  {
   "cell_type": "markdown",
   "metadata": {},
   "source": [
    "### The parameter grid for sklearn logistic regression\n",
    "- The hyperparameters we want to tune are:\n",
    "    - multi_class\n",
    "    - solver\n",
    "    - C\n",
    "\n",
    "- Here we need to use two dictionaries in the parameter grid since 'multinomial' (multi_class) does not support 'liblinear' (solver)."
   ]
  },
  {
   "cell_type": "code",
   "execution_count": null,
   "metadata": {},
   "outputs": [],
   "source": [
    "C_range = [10 ** i for i in range(-4, 5)]\n",
    "\n",
    "param_grid = [{'clf__multi_class': ['ovr'], \n",
    "               'clf__solver': ['newton-cg', 'lbfgs', 'liblinear', 'sag', 'saga'],\n",
    "               'clf__C': C_range},\n",
    "              {'clf__multi_class': ['multinomial'],\n",
    "               'clf__solver': ['newton-cg', 'lbfgs', 'sag', 'saga'],\n",
    "               'clf__C': C_range}]\n",
    "\n",
    "param_grids['lr'] = param_grid"
   ]
  },
  {
   "cell_type": "markdown",
   "metadata": {},
   "source": [
    "### The parameter grid for MyLogisticRegression\n",
    "- The hyperparameters we want to tune are:\n",
    "    - eta\n",
    "    - C\n",
    "\n",
    "- See details of the meaning of the hyperparametes in the definition of MyLogisticRegression"
   ]
  },
  {
   "cell_type": "code",
   "execution_count": null,
   "metadata": {},
   "outputs": [],
   "source": [
    "eta_range = [10 ** i for i in range(-3, 1)]\n",
    "C_range = [10 ** i for i in range(-4, 5)]\n",
    "\n",
    "param_grid = [{'clf__eta': eta_range,\n",
    "               'clf__C': C_range}]\n",
    "\n",
    "param_grids['mylr'] = param_grid"
   ]
  },
  {
   "cell_type": "markdown",
   "metadata": {},
   "source": [
    "## Hyperparameter tuning\n",
    "- Here we use two functions for hyperparameter tuning:\n",
    "    - [GridSearchCV](http://scikit-learn.org/stable/modules/generated/sklearn.model_selection.GridSearchCV.html): Exhaustive search over specified parameter values for an estimator\n",
    "    - [StratifiedKFold](http://scikit-learn.org/stable/modules/generated/sklearn.model_selection.StratifiedKFold.html): Stratified K-Folds cross-validator"
   ]
  },
  {
   "cell_type": "code",
   "execution_count": null,
   "metadata": {},
   "outputs": [],
   "source": [
    "from sklearn.model_selection import GridSearchCV\n",
    "from sklearn.model_selection import StratifiedKFold\n",
    "\n",
    "# The list of [best_score_, best_params_, best_estimator_]\n",
    "best_score_param_estimators = []\n",
    "\n",
    "# For each classifier\n",
    "for name in pipe_clfs.keys():\n",
    "    # GridSearchCV\n",
    "    gs = GridSearchCV(estimator=pipe_clfs[name],\n",
    "                      param_grid=param_grids[name],\n",
    "                      scoring='accuracy',\n",
    "                      n_jobs=-1,\n",
    "                      iid=False,\n",
    "                      cv=StratifiedKFold(n_splits=10,\n",
    "                                         random_state=0),\n",
    "                      return_train_score=True)\n",
    "    # Fit the pipeline\n",
    "    gs = gs.fit(X_train, y_train)\n",
    "    \n",
    "    # Update best_score_param_estimators\n",
    "    best_score_param_estimators.append([gs.best_score_, gs.best_params_, gs.best_estimator_])\n",
    "    \n",
    "    # Sort cv_results in ascending order of 'rank_test_score' and 'std_test_score'\n",
    "    cv_results = pd.DataFrame.from_dict(gs.cv_results_).sort_values(by=['rank_test_score', 'std_test_score'])\n",
    "    \n",
    "    # Get the important columns in cv_results\n",
    "    important_columns = ['rank_test_score',\n",
    "                         'mean_test_score', \n",
    "                         'std_test_score', \n",
    "                         'mean_train_score', \n",
    "                         'std_train_score',\n",
    "                         'mean_fit_time', \n",
    "                         'std_fit_time',                        \n",
    "                         'mean_score_time', \n",
    "                         'std_score_time']\n",
    "    \n",
    "    # Move the important columns ahead\n",
    "    cv_results = cv_results[important_columns + sorted(list(set(cv_results.columns) - set(important_columns)))]\n",
    "\n",
    "    # Write cv_results file\n",
    "    cv_results.to_csv(path_or_buf=name + '_cv_results.csv', index=False)"
   ]
  },
  {
   "cell_type": "markdown",
   "metadata": {},
   "source": [
    "## Model selection"
   ]
  },
  {
   "cell_type": "code",
   "execution_count": null,
   "metadata": {},
   "outputs": [],
   "source": [
    "# Sort best_score_param_estimators in descending order of the best_score_\n",
    "best_score_param_estimators = sorted(best_score_param_estimators, key=lambda x : x[0], reverse=True)\n",
    "\n",
    "# Print best_score_param_estimators\n",
    "for rank in range(len(best_score_param_estimators)):\n",
    "    best_score, best_params, best_estimator = best_score_param_estimators[rank]\n",
    "\n",
    "    print('Top', str(rank + 1))    \n",
    "    print('%-15s' % 'best_score:', best_score)\n",
    "    print('%-15s' % 'best_estimator:'.format(20), type(best_estimator.named_steps['clf']))\n",
    "    print('%-15s' % 'best_params:'.format(20), best_params, end='\\n\\n')"
   ]
  },
  {
   "cell_type": "markdown",
   "metadata": {},
   "source": [
    "# Prediction"
   ]
  },
  {
   "cell_type": "code",
   "execution_count": null,
   "metadata": {},
   "outputs": [],
   "source": [
    "# Predict the target value using the best estimator\n",
    "# Hint: you should use the above best_estimator\n",
    "y_pred = best_score_param_estimators[0][2].predict(X_test)\n",
    "y_pred"
   ]
  },
  {
   "cell_type": "markdown",
   "metadata": {},
   "source": [
    "# Accuracy and Confusion matrix"
   ]
  },
  {
   "cell_type": "code",
   "execution_count": null,
   "metadata": {},
   "outputs": [],
   "source": [
    "from sklearn.metrics import accuracy_score\n",
    "from sklearn.metrics import classification_report\n",
    "from sklearn.metrics import confusion_matrix\n",
    "import matplotlib.pyplot as plt\n",
    "acc = accuracy_score(y_test, y_pred) * 100\n",
    "print(acc)\n",
    "conf_matrix = confusion_matrix(y_test, y_pred)\n",
    "class_names = np.unique(y_test)\n",
    "df_cm = pd.DataFrame(conf_matrix, index=class_names, columns=class_names )\n",
    "print(df_cm)"
   ]
  },
  {
   "cell_type": "markdown",
   "metadata": {},
   "source": [
    "# Logistic Regression Results\n",
    "The results above show that, the average accuracy of the model which we implemented is lower than that of the sklearn model. This means that, on the stocks dataset, sklearn model is more accurate and more robust than our model."
   ]
  },
  {
   "cell_type": "markdown",
   "metadata": {},
   "source": [
    "# Decision Tree"
   ]
  },
  {
   "cell_type": "markdown",
   "metadata": {},
   "source": [
    "# Train the decision tree"
   ]
  },
  {
   "cell_type": "code",
   "execution_count": null,
   "metadata": {},
   "outputs": [],
   "source": [
    "from sklearn.pipeline import Pipeline\n",
    "from sklearn.preprocessing import StandardScaler\n",
    "from sklearn.tree import DecisionTreeClassifier\n",
    "\n",
    "# Create the pipeline with StandardScaler and DecisionTreeClassifier\n",
    "pipe_dt = Pipeline([('StandardScaler', StandardScaler()), \n",
    "                    ('DecisionTreeClassifier', DecisionTreeClassifier(max_depth=4))])\n",
    "\n",
    "pipe_dt.fit(X_train, y_train)\n",
    "# Get the list of accuracy obtained by cross_val_score (using KFold, and tha above n_splits and random_state)\n",
    "dt_score = cross_val_score(pipe_dt, X_train, y_train, cv=KFold(n_splits=10, random_state=123))\n",
    "# Get the average accuracy of each model obtained by cross validation\n",
    "dt_score.mean()"
   ]
  },
  {
   "cell_type": "markdown",
   "metadata": {},
   "source": [
    "# Prediction"
   ]
  },
  {
   "cell_type": "code",
   "execution_count": null,
   "metadata": {},
   "outputs": [],
   "source": [
    "y_pred = pipe_dt.predict(X_test)"
   ]
  },
  {
   "cell_type": "markdown",
   "metadata": {},
   "source": [
    "# Accuracy and Confusion matrix"
   ]
  },
  {
   "cell_type": "code",
   "execution_count": null,
   "metadata": {},
   "outputs": [],
   "source": [
    "from sklearn.metrics import accuracy_score\n",
    "from sklearn.metrics import classification_report\n",
    "from sklearn.metrics import confusion_matrix\n",
    "import matplotlib.pyplot as plt\n",
    "acc = accuracy_score(y_test, y_pred) * 100\n",
    "print(acc)\n",
    "conf_matrix = confusion_matrix(y_test, y_pred)\n",
    "class_names = np.unique(y_test)\n",
    "df_cm = pd.DataFrame(conf_matrix, index=class_names, columns=class_names )\n",
    "df_cm"
   ]
  },
  {
   "cell_type": "markdown",
   "metadata": {},
   "source": [
    "# Plot Decision Tree"
   ]
  },
  {
   "cell_type": "code",
   "execution_count": null,
   "metadata": {},
   "outputs": [],
   "source": [
    "from pydotplus import graph_from_dot_data\n",
    "from sklearn.tree import export_graphviz\n",
    "from IPython.display import Image\n",
    "\n",
    "dot_data = export_graphviz(pipe_dt.named_steps['DecisionTreeClassifier'],\n",
    "                           filled=True, \n",
    "                           rounded=True,\n",
    "                           class_names=['F', \n",
    "                                        'T'],\n",
    "                           feature_names=feature_value_names,\n",
    "                           out_file=None) \n",
    "\n",
    "graph = graph_from_dot_data(dot_data) \n",
    "\n",
    "Image(graph.create_png())"
   ]
  },
  {
   "cell_type": "markdown",
   "metadata": {},
   "source": [
    "# Decision Tree results\n",
    "From the confusion matrix, we can see that the number of wrong classifications are more and accuracy on the train data is 50.87% which is pretty low."
   ]
  },
  {
   "cell_type": "markdown",
   "metadata": {},
   "source": [
    "# Random Forest"
   ]
  },
  {
   "cell_type": "markdown",
   "metadata": {},
   "source": [
    "# Train the random forest"
   ]
  },
  {
   "cell_type": "code",
   "execution_count": null,
   "metadata": {},
   "outputs": [],
   "source": [
    "from sklearn.pipeline import Pipeline\n",
    "from sklearn.preprocessing import StandardScaler\n",
    "from sklearn.ensemble import RandomForestClassifier\n",
    "from sklearn.model_selection import cross_val_score\n",
    "from sklearn.model_selection import KFold\n",
    "\n",
    "# Create the pipeline with StandardScaler and RandomForestClassifier\n",
    "pipe_rf = Pipeline([('StandardScaler', StandardScaler()), \n",
    "                    ('RandomForestClassifier', RandomForestClassifier())])\n",
    "\n",
    "pipe_rf.fit(X_train, y_train)\n",
    "# Get the list of accuracy obtained by cross_val_score (using KFold, and tha above n_splits and random_state)\n",
    "rf_score = cross_val_score(pipe_rf, X_train, y_train, cv=KFold(n_splits=10, random_state=123))\n",
    "# Get the average accuracy of each model obtained by cross validation\n",
    "rf_score.mean()"
   ]
  },
  {
   "cell_type": "markdown",
   "metadata": {},
   "source": [
    "# Prediction"
   ]
  },
  {
   "cell_type": "code",
   "execution_count": null,
   "metadata": {},
   "outputs": [],
   "source": [
    "y_pred = pipe_rf.predict(X_test)"
   ]
  },
  {
   "cell_type": "markdown",
   "metadata": {},
   "source": [
    "# Accuracy and Confusion matrix"
   ]
  },
  {
   "cell_type": "code",
   "execution_count": null,
   "metadata": {},
   "outputs": [],
   "source": [
    "from sklearn.metrics import accuracy_score\n",
    "from sklearn.metrics import classification_report\n",
    "from sklearn.metrics import confusion_matrix\n",
    "import matplotlib.pyplot as plt\n",
    "acc = accuracy_score(y_test, y_pred) * 100\n",
    "print(acc)\n",
    "conf_matrix = confusion_matrix(y_test, y_pred)\n",
    "class_names = np.unique(y_test)\n",
    "df_cm = pd.DataFrame(conf_matrix, index=class_names, columns=class_names )\n",
    "df_cm"
   ]
  },
  {
   "cell_type": "code",
   "execution_count": null,
   "metadata": {},
   "outputs": [],
   "source": [
    "import matplotlib.pyplot as plt\n",
    "\n",
    "# Convert the importances into one-dimensional 1darray with corresponding df column names as axis labels\n",
    "f_importances = pd.Series(pipe_rf.named_steps['RandomForestClassifier'].feature_importances_, feature_value_names)\n",
    "\n",
    "# Sort the array in descending order of the importances\n",
    "f_importances = f_importances.sort_values(ascending=False)\n",
    "\n",
    "# Draw the bar Plot from f_importances \n",
    "f_importances.plot(x='Features', y='Importance', kind='bar', figsize=(16,9), rot=45, fontsize=9)\n",
    "\n",
    "# Show the plot\n",
    "plt.tight_layout()\n",
    "plt.show()"
   ]
  },
  {
   "cell_type": "markdown",
   "metadata": {},
   "source": [
    "# Random Forest results:\n",
    "Using random forest model, we got an accuracy of 55.16% on the training data which is not that great."
   ]
  },
  {
   "cell_type": "markdown",
   "metadata": {},
   "source": [
    "# Hyperparameter tuning and model selection\n",
    "In this section\n",
    "- we first use the combination of Pipeline and GridSearchCV to fine tune the hyperparameters of classifiers"
   ]
  },
  {
   "cell_type": "markdown",
   "metadata": {},
   "source": [
    "## Create the dictionary of classifiers\n",
    "- In the dictionary:\n",
    "    - the key is the acronym of the classifier\n",
    "    - the value is the classifier"
   ]
  },
  {
   "cell_type": "code",
   "execution_count": null,
   "metadata": {},
   "outputs": [],
   "source": [
    "from sklearn.neural_network import MLPClassifier\n",
    "from sklearn.tree import DecisionTreeClassifier\n",
    "from sklearn.ensemble import RandomForestClassifier\n",
    "from xgboost.sklearn import XGBClassifier\n",
    "from sklearn.neighbors import KNeighborsClassifier\n",
    "\n",
    "clfs = {'mlp': MLPClassifier(random_state=0),\n",
    "        'dt': DecisionTreeClassifier(random_state=0),\n",
    "        'rf': RandomForestClassifier(random_state=0),\n",
    "        'xgb': XGBClassifier(seed=0),\n",
    "        'knn': KNeighborsClassifier()}"
   ]
  },
  {
   "cell_type": "markdown",
   "metadata": {},
   "source": [
    "## Create the dictionary of pipeline\n",
    "In the dictionary:\n",
    "- the key is the acronym of the classifier\n",
    "- the value is the pipeline (with StandardScaler and the classifier)"
   ]
  },
  {
   "cell_type": "code",
   "execution_count": null,
   "metadata": {},
   "outputs": [],
   "source": [
    "from sklearn.pipeline import Pipeline\n",
    "from sklearn.preprocessing import StandardScaler\n",
    "\n",
    "pipe_clfs = {}\n",
    "\n",
    "for name, clf in clfs.items():\n",
    "    # Implement me\n",
    "    pipe_clfs[name] = Pipeline([('StandardScaler', StandardScaler()), \n",
    "                                ('clf', clf)])"
   ]
  },
  {
   "cell_type": "markdown",
   "metadata": {},
   "source": [
    "## Create the dictionary of parameter grids\n",
    "In the dictionary:\n",
    "- the key is the acronym of the classifier\n",
    "- the value is the parameter grid of the classifier"
   ]
  },
  {
   "cell_type": "code",
   "execution_count": null,
   "metadata": {},
   "outputs": [],
   "source": [
    "param_grids = {}"
   ]
  },
  {
   "cell_type": "markdown",
   "metadata": {},
   "source": [
    "### The parameter grid for MLP\n",
    "The hyperparameters we want to fine tune are:\n",
    "- hidden_layer_sizes\n",
    "- activation\n",
    "\n",
    "See details of the meaning of the hyperparametes in [sklearn multi-layer perceptron documentation](http://scikit-learn.org/stable/modules/generated/sklearn.neural_network.MLPClassifier.html#sklearn.neural_network.MLPClassifier)"
   ]
  },
  {
   "cell_type": "code",
   "execution_count": null,
   "metadata": {},
   "outputs": [],
   "source": [
    "param_grid = [{'clf__hidden_layer_sizes': [10, 100],\n",
    "               'clf__activation': ['identity', 'logistic', 'tanh', 'relu']}]\n",
    "\n",
    "param_grids['mlp'] = param_grid"
   ]
  },
  {
   "cell_type": "markdown",
   "metadata": {},
   "source": [
    "### The parameter grid for decision tree\n",
    "The hyperparameters we want to fine tune are:\n",
    "- min_samples_split\n",
    "- min_samples_leaf\n",
    "\n",
    "See details of the meaning of the hyperparametes in [sklearn decision tree documentation](http://scikit-learn.org/stable/modules/generated/sklearn.tree.DecisionTreeClassifier.html#sklearn.tree.DecisionTreeClassifier)"
   ]
  },
  {
   "cell_type": "code",
   "execution_count": null,
   "metadata": {},
   "outputs": [],
   "source": [
    "param_grid = [{'clf__min_samples_split': [2, 10, 30],\n",
    "               'clf__min_samples_leaf': [1, 10, 30]}]\n",
    "\n",
    "param_grids['dt'] = param_grid"
   ]
  },
  {
   "cell_type": "markdown",
   "metadata": {},
   "source": [
    "### The parameter grid for random forest\n",
    "The hyperparameters we want to fine tune are:\n",
    "- n_estimators\n",
    "- min_samples_split\n",
    "- min_samples_leaf\n",
    "\n",
    "See details of the meaning of the hyperparametes in [sklearn random forest documentation](http://scikit-learn.org/stable/modules/generated/sklearn.ensemble.RandomForestClassifier.html)"
   ]
  },
  {
   "cell_type": "code",
   "execution_count": null,
   "metadata": {},
   "outputs": [],
   "source": [
    "param_grid = [{'clf__n_estimators': [10, 100],\n",
    "               'clf__min_samples_split': [2, 10, 30],\n",
    "               'clf__min_samples_leaf': [1, 10, 30]}]\n",
    "\n",
    "param_grids['rf'] = param_grid"
   ]
  },
  {
   "cell_type": "markdown",
   "metadata": {},
   "source": [
    "### The parameter grid for xgboost\n",
    "The hyperparameters we want to fine tune are:\n",
    "- eta\n",
    "- gamma\n",
    "- lambda\n",
    "\n",
    "See details of the meaning of the hyperparametes in [XGBoost documentation](https://xgboost.readthedocs.io/en/latest/parameter.html)"
   ]
  },
  {
   "cell_type": "code",
   "execution_count": null,
   "metadata": {},
   "outputs": [],
   "source": [
    "param_grid = [{'clf__eta': [10 ** i for i in range(-4, 1)],\n",
    "               'clf__gamma': [0, 10, 100],\n",
    "               'clf__lambda': [10 ** i for i in range(-4, 5)]}]\n",
    "\n",
    "param_grids['xgb'] = param_grid"
   ]
  },
  {
   "cell_type": "markdown",
   "metadata": {},
   "source": [
    "### The parameter grid for KNN\n",
    "The hyperparameters we want to fine tune are:\n",
    "- n_neighbors\n",
    "\n",
    "See details of the meaning of the hyperparametes in [sklearn KNN documentation](https://scikit-learn.org/stable/modules/generated/sklearn.neighbors.KNeighborsClassifier.html)"
   ]
  },
  {
   "cell_type": "code",
   "execution_count": null,
   "metadata": {},
   "outputs": [],
   "source": [
    "param_grid = [{'clf__n_neighbors': list(range(1, 11))}]\n",
    "\n",
    "param_grids['knn'] = param_grid"
   ]
  },
  {
   "cell_type": "markdown",
   "metadata": {},
   "source": [
    "## Hyperparameter tuning\n",
    "Here we use two functions for hyperparameter tuning:\n",
    "- [GridSearchCV](http://scikit-learn.org/stable/modules/generated/sklearn.model_selection.GridSearchCV.html): Exhaustive search over specified parameter values for an estimator\n",
    "- [StratifiedKFold](http://scikit-learn.org/stable/modules/generated/sklearn.model_selection.StratifiedKFold.html): Stratified K-Folds cross-validator"
   ]
  },
  {
   "cell_type": "code",
   "execution_count": null,
   "metadata": {},
   "outputs": [],
   "source": [
    "import warnings\n",
    "warnings.filterwarnings('ignore')"
   ]
  },
  {
   "cell_type": "code",
   "execution_count": null,
   "metadata": {},
   "outputs": [],
   "source": [
    "from sklearn.model_selection import GridSearchCV\n",
    "from sklearn.model_selection import StratifiedKFold\n",
    "\n",
    "# The list of [best_score_, best_params_, best_estimator_]\n",
    "best_score_param_estimators = []\n",
    "\n",
    "# For each classifier\n",
    "for name in pipe_clfs.keys():\n",
    "    # GridSearchCV\n",
    "    # Implement me\n",
    "    gs = GridSearchCV(estimator=pipe_clfs[name],\n",
    "                      param_grid=param_grids[name],\n",
    "                      scoring='accuracy',\n",
    "                      n_jobs=1,\n",
    "                      iid=False,\n",
    "                      cv=StratifiedKFold(n_splits=10,\n",
    "                                         shuffle=True,\n",
    "                                         random_state=0))\n",
    "    # Fit the pipeline\n",
    "    # Implement me\n",
    "    gs = gs.fit(X_train, y_train)\n",
    "    \n",
    "    # Update best_score_param_estimators\n",
    "    best_score_param_estimators.append([gs.best_score_, gs.best_params_, gs.best_estimator_])"
   ]
  },
  {
   "cell_type": "markdown",
   "metadata": {},
   "source": [
    "## Model selection"
   ]
  },
  {
   "cell_type": "code",
   "execution_count": null,
   "metadata": {},
   "outputs": [],
   "source": [
    "# Sort best_score_param_estimators in descending order of the best_score_\n",
    "# Implement me\n",
    "best_score_param_estimators = sorted(best_score_param_estimators, key=lambda x : x[0], reverse=True)\n",
    "\n",
    "# For each [best_score_, best_params_, best_estimator_]\n",
    "for best_score_param_estimator in best_score_param_estimators:\n",
    "    # Print out [best_score_, best_params_, best_estimator_], where best_estimator_ is a pipeline\n",
    "    # Since we only print out the type of classifier of the pipeline\n",
    "    print([best_score_param_estimator[0], best_score_param_estimator[1], type(best_score_param_estimator[2].named_steps['clf'])], end='\\n\\n')"
   ]
  },
  {
   "cell_type": "markdown",
   "metadata": {},
   "source": [
    "# Conclusion"
   ]
  },
  {
   "cell_type": "markdown",
   "metadata": {},
   "source": [
    "## Finals Results of Classification Models"
   ]
  },
  {
   "cell_type": "markdown",
   "metadata": {},
   "source": [
    "The results of classification models show that, Logistic Regression has the highest accuracy of 84.16%, followed by decision tree, random forest, xgboost, MLP and KNN. Also, predicting on Test data using Logistic Regression model with best parameters gave us an accuracy of 84.15%."
   ]
  }
 ],
 "metadata": {
  "kernelspec": {
   "display_name": "Python 3",
   "language": "python",
   "name": "python3"
  },
  "language_info": {
   "codemirror_mode": {
    "name": "ipython",
    "version": 3
   },
   "file_extension": ".py",
   "mimetype": "text/x-python",
   "name": "python",
   "nbconvert_exporter": "python",
   "pygments_lexer": "ipython3",
   "version": "3.7.3"
  }
 },
 "nbformat": 4,
 "nbformat_minor": 2
}
